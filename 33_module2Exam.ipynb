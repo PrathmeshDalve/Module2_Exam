{
  "nbformat": 4,
  "nbformat_minor": 0,
  "metadata": {
    "colab": {
      "name": "33_module2Exam.ipynb",
      "provenance": []
    },
    "kernelspec": {
      "name": "python3",
      "display_name": "Python 3"
    },
    "language_info": {
      "name": "python"
    }
  },
  "cells": [
    {
      "cell_type": "markdown",
      "source": [
        "#1- Convert given hrs & mins in second"
      ],
      "metadata": {
        "id": "-NZz3x64lkvT"
      }
    },
    {
      "cell_type": "code",
      "source": [
        "h = int(input(\"Enter hours: \"))\n",
        "m = int(input(\"Enter minitess: \"))\n",
        "\n",
        "sec = (h*3600) + (m*60)\n",
        "\n",
        "print(\"Hours are\",h,\"and minites are\",m,\"seconds are\",sec)"
      ],
      "metadata": {
        "colab": {
          "base_uri": "https://localhost:8080/"
        },
        "id": "VHiE3sF1lp3I",
        "outputId": "769884a5-907f-493d-e2c4-2dff019301bf"
      },
      "execution_count": null,
      "outputs": [
        {
          "output_type": "stream",
          "name": "stdout",
          "text": [
            "Enter hours: 1\n",
            "Enter minitess: 20\n",
            "Hours are 1 and minites are 20 seconds are 4800\n"
          ]
        }
      ]
    },
    {
      "cell_type": "markdown",
      "source": [
        "# 8) Pattern"
      ],
      "metadata": {
        "id": "dik9t0n53_oz"
      }
    },
    {
      "cell_type": "code",
      "source": [
        "n ='13567'\n",
        " \n",
        "for i in range(0,len(n)):\n",
        "  print(n[i]*(i+1))"
      ],
      "metadata": {
        "colab": {
          "base_uri": "https://localhost:8080/"
        },
        "id": "EdT6Wu5PvL-G",
        "outputId": "ee03700d-312a-4fd8-f875-d93124946130"
      },
      "execution_count": null,
      "outputs": [
        {
          "output_type": "stream",
          "name": "stdout",
          "text": [
            "1\n",
            "33\n",
            "555\n",
            "6666\n",
            "77777\n"
          ]
        }
      ]
    },
    {
      "cell_type": "markdown",
      "source": [
        "# 4)-Write a code to accept a number & print\n"
      ],
      "metadata": {
        "id": "0Bde6mUxsl8M"
      }
    },
    {
      "cell_type": "code",
      "source": [
        "num =int(input(\"Enter a number :\"))\n",
        "list = ['Zero','One','Two','Three','Four','five']\n",
        "\n",
        "for i in range (0,len(list)+1):\n",
        "  if i==num:\n",
        "    print(list[i])"
      ],
      "metadata": {
        "colab": {
          "base_uri": "https://localhost:8080/"
        },
        "id": "r86zIjptsqFc",
        "outputId": "7e9758ce-0683-4f01-eda8-4dcb8de7d0b3"
      },
      "execution_count": null,
      "outputs": [
        {
          "output_type": "stream",
          "name": "stdout",
          "text": [
            "Enter a number :2\n",
            "Two\n"
          ]
        }
      ]
    },
    {
      "cell_type": "markdown",
      "source": [
        "# 3) Pattern   EXTRA"
      ],
      "metadata": {
        "id": "1C_cx3SKtiTY"
      }
    },
    {
      "cell_type": "code",
      "source": [
        "n = \"10101\"\n",
        " \n",
        "for i in range(1,len(n)+1):\n",
        "  print(n[:i])   "
      ],
      "metadata": {
        "colab": {
          "base_uri": "https://localhost:8080/"
        },
        "id": "Nc5JTmzh3678",
        "outputId": "24a55162-2d21-4bc7-951d-a076b1a4e212"
      },
      "execution_count": null,
      "outputs": [
        {
          "output_type": "stream",
          "name": "stdout",
          "text": [
            "1\n",
            "10\n",
            "101\n",
            "1010\n",
            "10101\n"
          ]
        }
      ]
    },
    {
      "cell_type": "markdown",
      "source": [
        "# 5) Math Class"
      ],
      "metadata": {
        "id": "NdYbk9Vc4GJa"
      }
    },
    {
      "cell_type": "code",
      "source": [
        "class Math:\n",
        "  def __init__(self,a,b):\n",
        "    self.a=a\n",
        "    self.b=b\n",
        "  def Add(self):\n",
        "    return self.a+self.b\n",
        "  def Sub(self):\n",
        "    return self.a-self.b\n",
        "  def Mul(self):\n",
        "    return self.a * self.b\n",
        "  def Div(self):\n",
        "    return self.a/self.b"
      ],
      "metadata": {
        "id": "lMOGEF7ttxny"
      },
      "execution_count": null,
      "outputs": []
    },
    {
      "cell_type": "code",
      "source": [
        "c = Math(20,10)"
      ],
      "metadata": {
        "id": "mpsC6d1cukjd"
      },
      "execution_count": null,
      "outputs": []
    },
    {
      "cell_type": "code",
      "source": [
        "print(c.Add())\n",
        "print(c.Sub())\n",
        "print(c.Mul())\n",
        "print(c.Div())"
      ],
      "metadata": {
        "colab": {
          "base_uri": "https://localhost:8080/"
        },
        "id": "wvBr2eiEur7r",
        "outputId": "c65ccd1a-2a66-4dae-b2e0-c54c8b8165c0"
      },
      "execution_count": null,
      "outputs": [
        {
          "output_type": "stream",
          "name": "stdout",
          "text": [
            "30\n",
            "10\n",
            "200\n",
            "2.0\n"
          ]
        }
      ]
    },
    {
      "cell_type": "code",
      "source": [
        ""
      ],
      "metadata": {
        "id": "rGWvpXj_xqAj"
      },
      "execution_count": null,
      "outputs": []
    },
    {
      "cell_type": "markdown",
      "source": [
        "# 9)Accept String & print only alternate characters on a string.\n"
      ],
      "metadata": {
        "id": "61Y-nPsMxrvV"
      }
    },
    {
      "cell_type": "code",
      "source": [
        "string = input(\"Enter a string : \")\n",
        "\n",
        "print(string[1::2])"
      ],
      "metadata": {
        "colab": {
          "base_uri": "https://localhost:8080/"
        },
        "id": "nYmC08U2x1CC",
        "outputId": "69a7a615-0bec-42a3-a675-c2d59458157f"
      },
      "execution_count": null,
      "outputs": [
        {
          "output_type": "stream",
          "name": "stdout",
          "text": [
            "Enter a string : Prathmesh\n",
            "rtms\n"
          ]
        }
      ]
    },
    {
      "cell_type": "markdown",
      "source": [
        "# 7) Convert Paise in Rupees\n"
      ],
      "metadata": {
        "id": "JWvwwjOxzmMe"
      }
    },
    {
      "cell_type": "code",
      "source": [
        "ps=float(input(\"Enter a paise \"))\n",
        "\n",
        "rs= ps//100\n",
        "paise=ps%100\n",
        "\n",
        "print(\"the total Rupees are:\",rs,\"Paise\",paise)"
      ],
      "metadata": {
        "colab": {
          "base_uri": "https://localhost:8080/"
        },
        "id": "QNY2ydd7zrd8",
        "outputId": "a8ff9a75-03ef-4496-e831-b759c943110f"
      },
      "execution_count": null,
      "outputs": [
        {
          "output_type": "stream",
          "name": "stdout",
          "text": [
            "Enter a paise 120\n",
            "the total Rupees are: 1.0 Paise 20.0\n"
          ]
        }
      ]
    }
  ]
}